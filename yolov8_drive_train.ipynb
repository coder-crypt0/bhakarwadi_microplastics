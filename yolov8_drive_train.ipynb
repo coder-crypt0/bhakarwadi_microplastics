{
 "cells": [
  {
   "cell_type": "markdown",
   "id": "e3abbac8",
   "metadata": {},
   "source": [
    "# YOLOv8 Training from Google Drive\n",
    "This notebook mounts Google Drive, checks the dataset layout under `MyDrive/microplastic`, and trains a YOLOv8 model for 10 epochs. Training outputs are saved directly to your Drive so you can close the Colab session later if desired.\n",
    "\n",
    "Expected Drive structure (already provided by you):\n",
    "- MyDrive/microplastic/train/images\n",
    "- MyDrive/microplastic/train/labels\n",
    "- MyDrive/microplastic/valid/images\n",
    "- MyDrive/microplastic/valid/labels\n",
    "- MyDrive/microplastic/data.yaml\n",
    "\n",
    "Run cells in order. Ensure Colab runtime is set to GPU."
   ]
  },
  {
   "cell_type": "code",
   "execution_count": null,
   "id": "5c213643",
   "metadata": {},
   "outputs": [],
   "source": [
    "# Mount Google Drive\n",
    "from google.colab import drive\n",
    "drive.mount('/content/drive')\n",
    "# Base dataset directory on Drive\n",
    "base_drive = '/content/drive/MyDrive/microplastic'\n",
    "print('Base drive path set to', base_drive)"
   ]
  },
  {
   "cell_type": "code",
   "execution_count": null,
   "id": "ecae9569",
   "metadata": {},
   "outputs": [],
   "source": [
    "# Install ultralytics (YOLOv8) and verify environment\n",
    "!pip install -U ultralytics --quiet\n",
    "import os, glob\n",
    "import torch\n",
    "from ultralytics import YOLO\n",
    "print('torch:', torch.__version__, 'cuda available=', torch.cuda.is_available())\n",
    "import ultralytics\n",
    "print('ultralytics version =', ultralytics.__version__)"
   ]
  },
  {
   "cell_type": "code",
   "execution_count": null,
   "id": "2446671d",
   "metadata": {},
   "outputs": [],
   "source": [
    "# Verify dataset layout and file counts under Drive paths\n",
    "train_images = os.path.join(base_drive, 'train', 'images')\n",
    "train_labels = os.path.join(base_drive, 'train', 'labels')\n",
    "valid_images = os.path.join(base_drive, 'valid', 'images')\n",
    "valid_labels = os.path.join(base_drive, 'valid', 'labels')\n",
    "data_yaml = os.path.join(base_drive, 'data.yaml')\n",
    "\n",
    "def count_files(path, patterns=['*.jpg','*.png']):\n",
    "    if not os.path.exists(path):\n",
    "        return 0\n",
    "    total = 0\n",
    "    for pat in patterns:\n",
    "        total += len(glob.glob(os.path.join(path, pat)))\n",
    "    return total\n",
    "\n",
    "print('train_images exists:', os.path.exists(train_images), 'count=', count_files(train_images))\n",
    "print('train_labels exists:', os.path.exists(train_labels), 'count=', len(glob.glob(os.path.join(train_labels, '*.txt'))))\n",
    "print('valid_images exists:', os.path.exists(valid_images), 'count=', count_files(valid_images))\n",
    "print('valid_labels exists:', os.path.exists(valid_labels), 'count=', len(glob.glob(os.path.join(valid_labels, '*.txt'))))\n",
    "print('data.yaml exists:', os.path.exists(data_yaml))\n",
    "if os.path.exists(data_yaml):\n",
    "    print('\n",
    "Contents of data.yaml:')\n",
    "    print(open(data_yaml).read())\n",
    "else:\n",
    "    print('data.yaml not found at', data_yaml)\n",
    "    print('Creating a minimal data.yaml pointing to the Drive folders...')\n",
    "    data = {\n",
    "        'path': base_drive,\n",
    "        'train': 'train/images',\n",
    "        'val': 'valid/images',\n",
    "        'test': 'valid/images',\n",
    "        'names': ['Microplastic']\n",
    "    }\n",
    "    import yaml\n",
    "    with open(data_yaml, 'w') as f:\n",
    "        yaml.dump(data, f, default_flow_style=False)\n",
    "    print('Wrote', data_yaml)"
   ]
  },
  {
   "cell_type": "markdown",
   "id": "8ca89992",
   "metadata": {},
   "source": [
    "## Train YOLOv8 for 10 epochs\n",
    "This cell launches training using the Ultralytics YOLOv8 API. Outputs will be saved to Drive under `MyDrive/microplastic/runs`.\n",
    "Adjust `model_size`, `batch` and `imgsz` as needed for your GPU."
   ]
  },
  {
   "cell_type": "code",
   "execution_count": null,
   "id": "216002d4",
   "metadata": {},
   "outputs": [],
   "source": [
    "# Training cell - set params before running\n",
    "from ultralytics import YOLO\n",
    "import os\n",
    "data_yaml = os.path.join(base_drive, 'data.yaml')\n",
    "model_size = 'yolov8s.pt'  # change to yolov8n/8m/8l if desired\n",
    "epochs = 10\n",
    "imgsz = 640\n",
    "batch = 16\n",
    "device = 'cuda' if torch.cuda.is_available() else 'cpu'\n",
    "project = os.path.join(base_drive, 'runs')  # saved to Drive\n",
    "name = 'yolov8_drive_exp'\n",
    "\n",
    "print('Training with', model_size, 'for', epochs, 'epochs. Data yaml:', data_yaml)\n",
    "print('Project (outputs) will be saved to', project)\n",
    "\n",
    "model = YOLO(model_size)\n",
    "model.train(data=data_yaml, epochs=epochs, imgsz=imgsz, batch=batch, device=device, project=project, name=name)\n",
    "\n",
    "print('Training finished. Check the Drive folder:', project)"
   ]
  },
  {
   "cell_type": "markdown",
   "id": "47275e0d",
   "metadata": {},
   "source": [
    "## Quick inference using the trained weights saved to Drive\n",
    "After training finishes the best weights will be saved under `MyDrive/microplastic/runs/yolov8_drive_exp/weights/best.pt`. Use the cell below to run a quick prediction on a validation image."
   ]
  },
  {
   "cell_type": "code",
   "execution_count": null,
   "id": "e5d525dc",
   "metadata": {},
   "outputs": [],
   "source": [
    "# Quick inference example (update path if you changed 'name' or 'project')\n",
    "from ultralytics import YOLO\n",
    "import glob, os\n",
    "weights_path = os.path.join(base_drive, 'runs', 'yolov8_drive_exp', 'weights', 'best.pt')\n",
    "if os.path.exists(weights_path):\n",
    "    print('Found weights at', weights_path)\n",
    "    model = YOLO(weights_path)\n",
    "    sample = glob.glob(os.path.join(base_drive, 'valid', 'images', '*'))\n",
    "    if len(sample) > 0:\n",
    "        print('Running inference on', sample[0])\n",
    "        res = model.predict(sample[0], save=True)\n",
    "        print('Saved predictions to /content/runs/predict or Drive run folder.')\n",
    "    else:\n",
    "        print('No validation images found to run inference on.')\n",
    "else:\n",
    "    print('Weights not found at', weights_path, '\n",
    "Make sure the training cell has finished and outputs were written to Drive.')"
   ]
  }
 ],
 "metadata": {
  "language_info": {
   "name": "python"
  }
 },
 "nbformat": 4,
 "nbformat_minor": 5
}
